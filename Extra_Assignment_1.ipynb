{
 "cells": [
  {
   "cell_type": "code",
   "execution_count": 11,
   "id": "42b3df6e-0707-43d9-8f65-6ae3497d1c23",
   "metadata": {},
   "outputs": [
    {
     "name": "stdout",
     "output_type": "stream",
     "text": [
      "HOPE AI\n"
     ]
    }
   ],
   "source": [
    "#Exercise 1\n",
    "print(\"HOPE AI\")"
   ]
  },
  {
   "cell_type": "code",
   "execution_count": 9,
   "id": "4a08c2ea-2509-4ca0-8424-e3aa090046e7",
   "metadata": {},
   "outputs": [
    {
     "name": "stdin",
     "output_type": "stream",
     "text": [
      "Enter the institue name ?.: HOPE AI\n"
     ]
    }
   ],
   "source": [
    "ins = input(\"Enter the institue name ?.:\")"
   ]
  },
  {
   "cell_type": "code",
   "execution_count": 51,
   "id": "3c836429-b596-4b1d-a375-8e82083c3497",
   "metadata": {},
   "outputs": [
    {
     "name": "stdin",
     "output_type": "stream",
     "text": [
      "Enter your name : Suresh\n",
      "Enter your age  : 15\n",
      "Enter your school name : Wesley\n",
      "Enter your degree  : BE\n"
     ]
    }
   ],
   "source": [
    "name = input(\"Enter your name :\")\n",
    "age  = input(\"Enter your age  :\")\n",
    "school_name  = input(\"Enter your school name :\")\n",
    "degree  = input(\"Enter your degree  :\")"
   ]
  },
  {
   "cell_type": "code",
   "execution_count": 23,
   "id": "f488bd75-0d4b-451e-bf05-105879c8803f",
   "metadata": {},
   "outputs": [
    {
     "name": "stdout",
     "output_type": "stream",
     "text": [
      "a   =  43\n",
      "b   =  34\n",
      "add =  77\n"
     ]
    }
   ],
   "source": [
    "a = 43\n",
    "b = 34\n",
    "print(\"a   = \",a)\n",
    "print(\"b   = \",b)\n",
    "print(\"add = \",a+b)\n"
   ]
  },
  {
   "cell_type": "code",
   "execution_count": 25,
   "id": "b8044d86-6ce7-471d-85bf-6fd66f3bbfb9",
   "metadata": {},
   "outputs": [
    {
     "name": "stdout",
     "output_type": "stream",
     "text": [
      "a   =  43\n",
      "b   =  34\n",
      "Sub =  9\n"
     ]
    }
   ],
   "source": [
    "a = 43\n",
    "b = 34\n",
    "print(\"a   = \",a)\n",
    "print(\"b   = \",b)\n",
    "print(\"Sub = \",a-b)"
   ]
  },
  {
   "cell_type": "code",
   "execution_count": 49,
   "id": "12e9c075-4c77-4c24-906e-4cc117b8c2d7",
   "metadata": {},
   "outputs": [
    {
     "name": "stdout",
     "output_type": "stream",
     "text": [
      "a   =  63\n",
      "b   =  97\n",
      "Mul =  6111\n"
     ]
    }
   ],
   "source": [
    "a = 63\n",
    "b = 97\n",
    "print(\"a   = \",a)\n",
    "print(\"b   = \",b)\n",
    "print(\"Mul = \",a*b)"
   ]
  },
  {
   "cell_type": "code",
   "execution_count": 47,
   "id": "0f46ca9a-7ca6-4197-99c0-efbee3459a36",
   "metadata": {},
   "outputs": [
    {
     "name": "stdout",
     "output_type": "stream",
     "text": [
      "a   =  76\n",
      "b   =  31\n",
      "Div =  2.4516129032258065\n"
     ]
    }
   ],
   "source": [
    "a = 76\n",
    "b = 31\n",
    "print(\"a   = \",a)\n",
    "print(\"b   = \",b)\n",
    "print(\"Div = \",a/b)"
   ]
  },
  {
   "cell_type": "code",
   "execution_count": 43,
   "id": "d7292bd0-9eb5-4413-ab5a-fe82f3bdcc62",
   "metadata": {},
   "outputs": [
    {
     "name": "stdout",
     "output_type": "stream",
     "text": [
      "a   =  76\n",
      "b   =  31\n",
      "Floor div =  2\n"
     ]
    }
   ],
   "source": [
    "a = 76\n",
    "b = 31\n",
    "print(\"a   = \",a)\n",
    "print(\"b   = \",b)\n",
    "print(\"Floor div = \",a//b)"
   ]
  },
  {
   "cell_type": "code",
   "execution_count": 41,
   "id": "548053d4-cb6b-40c8-a92f-68333413185d",
   "metadata": {},
   "outputs": [
    {
     "name": "stdout",
     "output_type": "stream",
     "text": [
      "a   =  76\n",
      "b   =  31\n",
      "Modulo =  14\n"
     ]
    }
   ],
   "source": [
    "a = 76\n",
    "b = 31\n",
    "print(\"a   = \",a)\n",
    "print(\"b   = \",b)\n",
    "print(\"Modulo = \",a%b)"
   ]
  },
  {
   "cell_type": "code",
   "execution_count": 39,
   "id": "feec73dd-fa4e-474f-a9ca-60e65d7c7a28",
   "metadata": {},
   "outputs": [
    {
     "name": "stdout",
     "output_type": "stream",
     "text": [
      "a   =  4\n",
      "b   =  4\n",
      "Power =  256\n"
     ]
    }
   ],
   "source": [
    "a = 4\n",
    "b = 4\n",
    "print(\"a   = \",a)\n",
    "print(\"b   = \",b)\n",
    "print(\"Power = \",a**b)"
   ]
  }
 ],
 "metadata": {
  "kernelspec": {
   "display_name": "Python 3 (ipykernel)",
   "language": "python",
   "name": "python3"
  },
  "language_info": {
   "codemirror_mode": {
    "name": "ipython",
    "version": 3
   },
   "file_extension": ".py",
   "mimetype": "text/x-python",
   "name": "python",
   "nbconvert_exporter": "python",
   "pygments_lexer": "ipython3",
   "version": "3.12.4"
  }
 },
 "nbformat": 4,
 "nbformat_minor": 5
}
